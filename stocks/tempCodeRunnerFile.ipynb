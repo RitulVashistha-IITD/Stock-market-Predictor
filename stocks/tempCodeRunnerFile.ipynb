model.save('keras.model(h5)')
